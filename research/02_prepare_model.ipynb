{
 "cells": [
  {
   "cell_type": "code",
   "execution_count": 1,
   "metadata": {},
   "outputs": [
    {
     "data": {
      "text/plain": [
       "'c:\\\\Users\\\\larakim\\\\Documents\\\\Data_train\\\\Satellite_image_classif\\\\ML-pipeline-Satellite-image-classification'"
      ]
     },
     "execution_count": 1,
     "metadata": {},
     "output_type": "execute_result"
    }
   ],
   "source": [
    "import os\n",
    "os.chdir('..')\n",
    "\n",
    "%pwd"
   ]
  },
  {
   "cell_type": "code",
   "execution_count": 2,
   "metadata": {},
   "outputs": [],
   "source": [
    "from dataclasses import dataclass\n",
    "from pathlib import Path\n",
    "\n",
    "@dataclass(frozen=True)\n",
    "class PrepareBaseModelConfig:\n",
    "  root_dir: Path\n",
    "  base_model_path: Path\n",
    "  params_img_size: tuple\n",
    "  params_lr: float\n",
    "  params_classes: int"
   ]
  },
  {
   "cell_type": "code",
   "execution_count": 3,
   "metadata": {},
   "outputs": [],
   "source": [
    "from img_classif.constants import *\n",
    "from img_classif.utils.common import create_directories, read_yaml\n",
    "\n",
    "\n",
    "\n",
    "class ConfigurationManager:\n",
    "    def __init__(self, config_path = CONFIG_FILE_PATH,param_path = PARAMS_FILE_PATH):\n",
    "        self.config = read_yaml(config_path)\n",
    "        self.params = read_yaml(param_path)\n",
    "\n",
    "    def get_prepareBaseModel(self)->PrepareBaseModelConfig:\n",
    "        base_model_config = PrepareBaseModelConfig(\n",
    "        root_dir = self.config.base_model_prep.root_dir,\n",
    "        base_model_path = self.config.base_model_prep.base_model_path,\n",
    "        params_img_size = self.params.img_size,\n",
    "        params_lr = self.params.lr,\n",
    "        params_classes = self.params.classes)\n",
    "\n",
    "        return base_model_config\n",
    "    "
   ]
  },
  {
   "cell_type": "code",
   "execution_count": 7,
   "metadata": {},
   "outputs": [],
   "source": [
    "import keras\n",
    "from img_classif import logger\n",
    "\n",
    "class PrepareBaseModel:\n",
    "\n",
    "    def __init__(self,config:PrepareBaseModelConfig):\n",
    "        self.config = config\n",
    "\n",
    "    def get_base_model(self):\n",
    "        self.model = keras.applications.Xception(\n",
    "            weights=\"imagenet\",  # Load weights pre-trained on ImageNet.\n",
    "            input_shape=eval(self.config.params_img_size),\n",
    "            include_top=False,\n",
    "        )\n",
    "\n",
    "    def update_base_model(self):\n",
    "        self.model.trainable = False\n",
    "        # Create new model on top\n",
    "        inputs = keras.Input(shape=eval(self.config.params_img_size))\n",
    "\n",
    "        # Pre-trained Xception weights requires that input be scaled\n",
    "        # from (0, 255) to a range of (-1., +1.), the rescaling layer\n",
    "        # outputs: `(inputs * scale) + offset`\n",
    "        scale_layer = keras.layers.Rescaling(scale=1 / 127.5, offset=-1)\n",
    "        x = scale_layer(inputs)\n",
    "\n",
    "        x = self.model(x,training=False)  \n",
    "        x = keras.layers.GlobalAveragePooling2D()(x)\n",
    "        x = keras.layers.Dropout(0.2)(x)  # Regularize with dropout\n",
    "        predictions = keras.layers.Dense(self.config.params_classes,activation='softmax')(x)\n",
    "\n",
    "        # Create the model\n",
    "        full_model = keras.Model(inputs,predictions)\n",
    "\n",
    "        # Print the model summary\n",
    "        full_model.summary()\n",
    "\n",
    "\n",
    "        full_model.save(self.config.base_model_path)\n",
    "        logger.info(f'Base model successfully saved at {self.config.base_model_path}')\n"
   ]
  },
  {
   "cell_type": "code",
   "execution_count": 8,
   "metadata": {},
   "outputs": [
    {
     "name": "stdout",
     "output_type": "stream",
     "text": [
      "['2024-04-08 11:43:40,781':'INFO':'common':'config\\config.yaml loaded successfully']\n",
      "['2024-04-08 11:43:40,786':'INFO':'common':'params.yaml loaded successfully']\n",
      "Model: \"model_1\"\n",
      "_________________________________________________________________\n",
      " Layer (type)                Output Shape              Param #   \n",
      "=================================================================\n",
      " input_4 (InputLayer)        [(None, 150, 150, 3)]     0         \n",
      "                                                                 \n",
      " rescaling_1 (Rescaling)     (None, 150, 150, 3)       0         \n",
      "                                                                 \n",
      " xception (Functional)       (None, 5, 5, 2048)        20861480  \n",
      "                                                                 \n",
      " global_average_pooling2d_1  (None, 2048)              0         \n",
      "  (GlobalAveragePooling2D)                                       \n",
      "                                                                 \n",
      " dropout_1 (Dropout)         (None, 2048)              0         \n",
      "                                                                 \n",
      " dense_1 (Dense)             (None, 4)                 8196      \n",
      "                                                                 \n",
      "=================================================================\n",
      "Total params: 20869676 (79.61 MB)\n",
      "Trainable params: 8196 (32.02 KB)\n",
      "Non-trainable params: 20861480 (79.58 MB)\n",
      "_________________________________________________________________\n",
      "['2024-04-08 11:43:44,721':'INFO':'1363994470':'Base model successfully saved at artifacts/base_model/base_model.keras']\n"
     ]
    }
   ],
   "source": [
    "config = ConfigurationManager()\n",
    "base_model_config = config.get_prepareBaseModel()\n",
    "base_model_c = PrepareBaseModel(base_model_config)\n",
    "base_model_c.get_base_model()\n",
    "base_model_c.update_base_model()\n",
    "\n"
   ]
  },
  {
   "cell_type": "code",
   "execution_count": 6,
   "metadata": {},
   "outputs": [
    {
     "data": {
      "text/plain": [
       "(150, 150)"
      ]
     },
     "execution_count": 6,
     "metadata": {},
     "output_type": "execute_result"
    }
   ],
   "source": [
    "tp = (150,150,3)\n",
    "tp[:2]"
   ]
  }
 ],
 "metadata": {
  "kernelspec": {
   "display_name": "image_classif",
   "language": "python",
   "name": "python3"
  },
  "language_info": {
   "codemirror_mode": {
    "name": "ipython",
    "version": 3
   },
   "file_extension": ".py",
   "mimetype": "text/x-python",
   "name": "python",
   "nbconvert_exporter": "python",
   "pygments_lexer": "ipython3",
   "version": "3.8.19"
  }
 },
 "nbformat": 4,
 "nbformat_minor": 2
}
