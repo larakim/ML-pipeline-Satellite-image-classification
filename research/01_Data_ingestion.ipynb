{
 "cells": [
  {
   "cell_type": "code",
   "execution_count": 1,
   "metadata": {},
   "outputs": [
    {
     "data": {
      "text/plain": [
       "'c:\\\\Users\\\\larakim\\\\Documents\\\\Data_train\\\\Satellite_image_classif\\\\ML-pipeline-Satellite-image-classification'"
      ]
     },
     "execution_count": 1,
     "metadata": {},
     "output_type": "execute_result"
    }
   ],
   "source": [
    "import os\n",
    "\n",
    "%pwd\n",
    "\n",
    "os.chdir('..')\n",
    "%pwd\n"
   ]
  },
  {
   "cell_type": "code",
   "execution_count": 2,
   "metadata": {},
   "outputs": [],
   "source": [
    "from dataclasses import dataclass\n",
    "from pathlib import Path\n",
    "\n",
    "@dataclass(frozen=True)\n",
    "class DataIngestionConfig:\n",
    "  source_url: str\n",
    "  root_dir: Path\n",
    "  zip_file: Path\n",
    "\n",
    "  "
   ]
  },
  {
   "cell_type": "code",
   "execution_count": 3,
   "metadata": {},
   "outputs": [],
   "source": [
    "from img_classif.constants import *\n",
    "from img_classif.utils.common import create_directories, read_yaml\n",
    "\n",
    "class ConfigurationManager:\n",
    "    def __init__(self, config_path = CONFIG_FILE_PATH,param_path = PARAMS_FILE_PATH):\n",
    "        self.config = read_yaml(config_path)\n",
    "        self.params = read_yaml(param_path)\n",
    "\n",
    "    def get_data_ingestion_config(self)->DataIngestionConfig:\n",
    "        data_ing_config = DataIngestionConfig(\n",
    "        source_url = self.config.data_ingestion.source_url,\n",
    "        root_dir = self.config.data_ingestion.root_dir,\n",
    "        zip_file = self.config.data_ingestion.zip_file)\n",
    "\n",
    "        return data_ing_config\n"
   ]
  },
  {
   "cell_type": "code",
   "execution_count": 4,
   "metadata": {},
   "outputs": [],
   "source": [
    "\n",
    "import gdown\n",
    "from img_classif import logger\n",
    "import zipfile\n",
    "\n",
    "class DataIngestion:\n",
    "    def __init__(self,data_config:DataIngestionConfig):\n",
    "        self.data_config = data_config\n",
    "\n",
    "\n",
    "    def download_data(self):\n",
    "        '''\n",
    "        Dowloading Satellite image data\n",
    "        '''\n",
    "        create_directories([self.data_config.root_dir])\n",
    "        try:\n",
    "\n",
    "            gdown.download(self.data_config.source_url,self.data_config.zip_file)\n",
    "\n",
    "            logger.info(f'Data downloaded successfully')\n",
    "        except Exception as e:\n",
    "            raise e\n",
    "    \n",
    "    def unzip_data(self):\n",
    "\n",
    "        \"\"\"\n",
    "        zip_file_path: str\n",
    "        Extracts the zip file into the data directory\n",
    "        Function returns None\n",
    "        \"\"\"\n",
    "        unzip_path = self.data_config.root_dir\n",
    "        os.makedirs(unzip_path, exist_ok=True)\n",
    "        with zipfile.ZipFile(self.data_config.zip_file, 'r') as zip_ref:\n",
    "            zip_ref.extractall(unzip_path)\n",
    "\n",
    "        logger.info(f'Data unzipped successfully')\n",
    "        \n",
    "    "
   ]
  },
  {
   "cell_type": "code",
   "execution_count": 5,
   "metadata": {},
   "outputs": [
    {
     "name": "stdout",
     "output_type": "stream",
     "text": [
      "['2024-04-02 12:06:20,830':'INFO':'common':'config\\config.yaml loaded successfully']\n",
      "['2024-04-02 12:06:20,834':'INFO':'common':'params.yaml loaded successfully']\n",
      "['2024-04-02 12:06:20,836':'INFO':'common':'created directory at: artifacts/data_ingestion']\n"
     ]
    },
    {
     "name": "stderr",
     "output_type": "stream",
     "text": [
      "Downloading...\n",
      "From: https://drive.google.com/uc?/export=download&id=1RxwbLBQml6c0bqMSPl--6khIYJGznilq\n",
      "To: c:\\Users\\larakim\\Documents\\Data_train\\Satellite_image_classif\\ML-pipeline-Satellite-image-classification\\artifacts\\data_ingestion\\Satellite_image_classif.zip\n",
      "100%|██████████| 22.8M/22.8M [00:01<00:00, 21.8MB/s]"
     ]
    },
    {
     "name": "stdout",
     "output_type": "stream",
     "text": [
      "['2024-04-02 12:06:52,704':'INFO':'720135820':'Data downloaded successfully']\n"
     ]
    },
    {
     "name": "stderr",
     "output_type": "stream",
     "text": [
      "\n"
     ]
    }
   ],
   "source": [
    "config = ConfigurationManager()\n",
    "data_config = config.get_data_ingestion_config()\n",
    "data_ingestion_i = DataIngestion(data_config)\n",
    "data_ingestion_i.download_data()\n",
    "data_ingestion_i.unzip_data()"
   ]
  },
  {
   "cell_type": "code",
   "execution_count": null,
   "metadata": {},
   "outputs": [],
   "source": []
  },
  {
   "cell_type": "code",
   "execution_count": null,
   "metadata": {},
   "outputs": [],
   "source": []
  }
 ],
 "metadata": {
  "kernelspec": {
   "display_name": "image_classif",
   "language": "python",
   "name": "python3"
  },
  "language_info": {
   "codemirror_mode": {
    "name": "ipython",
    "version": 3
   },
   "file_extension": ".py",
   "mimetype": "text/x-python",
   "name": "python",
   "nbconvert_exporter": "python",
   "pygments_lexer": "ipython3",
   "version": "3.8.19"
  }
 },
 "nbformat": 4,
 "nbformat_minor": 2
}
