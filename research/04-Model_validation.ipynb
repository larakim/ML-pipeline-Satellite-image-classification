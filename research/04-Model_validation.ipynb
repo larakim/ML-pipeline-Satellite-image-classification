{
 "cells": [
  {
   "cell_type": "code",
   "execution_count": 1,
   "metadata": {},
   "outputs": [
    {
     "data": {
      "text/plain": [
       "'c:\\\\Users\\\\larakim\\\\Documents\\\\Data_train\\\\Satellite_image_classif\\\\ML-pipeline-Satellite-image-classification'"
      ]
     },
     "execution_count": 1,
     "metadata": {},
     "output_type": "execute_result"
    }
   ],
   "source": [
    "import os\n",
    "os.chdir('..')\n",
    "\n",
    "%pwd"
   ]
  },
  {
   "cell_type": "code",
   "execution_count": 2,
   "metadata": {},
   "outputs": [],
   "source": [
    "# MLFLOW_TRACKING_URI=https://dagshub.com/larakim/ML-pipeline-Satellite-image-classification.mlflow \\\n",
    "# MLFLOW_TRACKING_USERNAME=larakim \\\n",
    "# MLFLOW_TRACKING_PASSWORD=6f0caff147881a6dd8d7169da2dc21273f023c6c \\\n",
    "# python script.py\n",
    "\n",
    "os.environ['MLFLOW_TRACKING_URI'] = 'https://dagshub.com/larakim/ML-pipeline-Satellite-image-classification.mlflow'\n",
    "os.environ['MLFLOW_TRACKING_USERNAME'] = 'larakim'\n",
    "os.environ['MLFLOW_TRACKING_PASSWORD'] = '6f0caff147881a6dd8d7169da2dc21273f023c6c'"
   ]
  },
  {
   "cell_type": "code",
   "execution_count": 3,
   "metadata": {},
   "outputs": [],
   "source": [
    "from dataclasses import dataclass\n",
    "from pathlib import Path\n",
    "\n",
    "@dataclass(frozen=True)\n",
    "class Modelevaluationconfig():\n",
    "    model_path: Path\n",
    "    data_path: Path\n",
    "    batch_size: int\n",
    "    img_size: tuple\n",
    "    eval_path:Path\n",
    "    root_dir:Path\n",
    "    param_all: dict\n",
    "    mlflow_uri: str\n",
    "    "
   ]
  },
  {
   "cell_type": "code",
   "execution_count": 4,
   "metadata": {},
   "outputs": [],
   "source": [
    "from img_classif.constants import *\n",
    "from img_classif.utils.common import read_yaml, create_directories, save_json\n",
    "\n",
    "class ConfigurationManager():\n",
    "\n",
    "    def __init__(self, config_path = CONFIG_FILE_PATH,param_path = PARAMS_FILE_PATH):\n",
    "        self.config = read_yaml(config_path)\n",
    "        self.params = read_yaml(param_path)\n",
    "\n",
    "\n",
    "    def get_model_eval_conf(self)->Modelevaluationconfig:\n",
    "        eval_config = Modelevaluationconfig(\n",
    "            model_path = self.config.model_trainer.updated_model_path,\n",
    "            data_path = self.config.model_trainer.data_path,\n",
    "            batch_size = self.params.batch_size,\n",
    "            img_size=self.params.img_size,\n",
    "            root_dir = self.config.model_evaluation.root_dir,\n",
    "            eval_path = self.config.model_evaluation.eval_path,\n",
    "            param_all = self.params,\n",
    "            mlflow_uri = self.config.model_evaluation.mlflow_uri)\n",
    "        return eval_config"
   ]
  },
  {
   "cell_type": "code",
   "execution_count": 5,
   "metadata": {},
   "outputs": [],
   "source": [
    "import tensorflow as tf\n",
    "from sklearn.metrics import classification_report\n",
    "import numpy as np\n",
    "import mlflow\n",
    "import mlflow.keras\n",
    "from urllib.parse import urlparse\n",
    "\n",
    "class Model_evaluation():\n",
    "\n",
    "    def __init__(self,config) -> None:\n",
    "        self.config = config\n",
    "        create_directories([self.config.root_dir])\n",
    "\n",
    "    def validation_generator(self):\n",
    "\n",
    "        input_shape=eval(self.config.img_size)\n",
    "        # Initialize the ImageDataGenerator (here, we're just rescaling the images)\n",
    "        train_datagen = tf.keras.preprocessing.image.ImageDataGenerator(\n",
    "                rotation_range=40,\n",
    "                width_shift_range=0.2,\n",
    "                height_shift_range=0.2,\n",
    "                shear_range=0.2,\n",
    "                zoom_range=0.2,\n",
    "                fill_mode='nearest',\n",
    "            validation_split=0.2) \n",
    "\n",
    "        self.ds_val = train_datagen.flow_from_directory(\n",
    "            self.config.data_path,\n",
    "            color_mode=\"rgb\",\n",
    "            batch_size=self.config.batch_size,\n",
    "            shuffle=False,\n",
    "            seed=10,\n",
    "            subset='validation',\n",
    "            interpolation=\"nearest\",\n",
    "            target_size=input_shape[:2],\n",
    "        )\n",
    "        self.labels = dict((v,k) for k,v in (self.ds_val.class_indices).items())\n",
    "    \n",
    "    def load_model(self):\n",
    "        return tf.keras.models.load_model(self.config.model_path)\n",
    "    \n",
    "    def evaluation(self):\n",
    "        \n",
    "        self.model = self.load_model()\n",
    "        predictions = self.model.predict(self.ds_val, verbose = 1)\n",
    "\n",
    "        predicted_class_indices=np.argmax(predictions,axis=1)\n",
    "        predictedLables= [self.labels[k] for k in predicted_class_indices]\n",
    "        actualLables= [self.labels[k] for k in self.ds_val.classes]\n",
    "\n",
    "        # Classification report\n",
    "        self.cr = classification_report(actualLables, predictedLables, output_dict=True)\n",
    "        dic = self.cr['weighted avg']\n",
    "        dic['accuracy'] = self.cr['accuracy']\n",
    "        self.save_report(dic)\n",
    "\n",
    "    def save_report(self,dic):\n",
    "        save_json(filename=Path(self.config.eval_path), data=dic)\n",
    "\n",
    "    def log_into_mlflow(self):\n",
    "\n",
    "        mlflow.set_registry_uri(self.config.mlflow_uri)\n",
    "        tracking_url_type_store = urlparse(mlflow.get_tracking_uri()).scheme\n",
    "        with mlflow.start_run():\n",
    "            mlflow.log_params(self.config.param_all)\n",
    "            dic_score = self.cr['weighted avg']\n",
    "            dic_score['accuracy'] = self.cr['accuracy']\n",
    "            mlflow.log_metrics(dic_score\n",
    "            )\n",
    "            # Model registry does not work with file store\n",
    "            if tracking_url_type_store != \"file\":\n",
    "\n",
    "                # Register the model\n",
    "                # There are other ways to use the Model Registry, which depends on the use case,\n",
    "                # please refer to the doc for more information:\n",
    "                # https://mlflow.org/docs/latest/model-registry.html#api-workflow\n",
    "                mlflow.keras.log_model(self.model, \"model\", registered_model_name=\"Xception\")\n",
    "            else:\n",
    "                mlflow.keras.log_model(self.model, \"model\")\n",
    "\n",
    "\n",
    "    "
   ]
  },
  {
   "cell_type": "code",
   "execution_count": 6,
   "metadata": {},
   "outputs": [
    {
     "name": "stdout",
     "output_type": "stream",
     "text": [
      "['2024-04-08 13:40:24,515':'INFO':'common':'config\\config.yaml loaded successfully']\n",
      "['2024-04-08 13:40:24,519':'INFO':'common':'params.yaml loaded successfully']\n",
      "['2024-04-08 13:40:24,522':'INFO':'common':'created directory at: artifacts/model_evaluation']\n",
      "Found 1126 images belonging to 4 classes.\n",
      "36/36 [==============================] - 43s 1s/step\n"
     ]
    }
   ],
   "source": [
    "config = ConfigurationManager()\n",
    "config_eval = config.get_model_eval_conf()\n",
    "eval_model = Model_evaluation(config=config_eval)\n",
    "eval_model.validation_generator()\n",
    "eval_model.evaluation()\n",
    "eval_model.log_into_mlflow()"
   ]
  },
  {
   "cell_type": "code",
   "execution_count": null,
   "metadata": {},
   "outputs": [],
   "source": []
  }
 ],
 "metadata": {
  "kernelspec": {
   "display_name": "image_classif",
   "language": "python",
   "name": "python3"
  },
  "language_info": {
   "codemirror_mode": {
    "name": "ipython",
    "version": 3
   },
   "file_extension": ".py",
   "mimetype": "text/x-python",
   "name": "python",
   "nbconvert_exporter": "python",
   "pygments_lexer": "ipython3",
   "version": "3.8.19"
  }
 },
 "nbformat": 4,
 "nbformat_minor": 2
}
